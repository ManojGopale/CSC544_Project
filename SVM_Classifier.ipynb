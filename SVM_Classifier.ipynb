{
 "cells": [
  {
   "cell_type": "code",
   "execution_count": 1,
   "metadata": {
    "collapsed": true
   },
   "outputs": [],
   "source": [
    "import cPickle, gzip, numpy\n",
    "\n",
    "## Load the dataset\n",
    "f = gzip.open('./mnist.pkl.gz', 'rb')\n",
    "train_set, valid_set, test_set = cPickle.load(f)\n",
    "f.close()\n"
   ]
  },
  {
   "cell_type": "code",
   "execution_count": 15,
   "metadata": {},
   "outputs": [
    {
     "name": "stdout",
     "output_type": "stream",
     "text": [
      "train_setSize= (50000, 784), train_set_labels= (50000,), <type 'numpy.ndarray'>\n",
      "X_train= (50000, 784), <type 'numpy.ndarray'>\n",
      "Y_train= (50000,), <type 'numpy.ndarray'>\n",
      "\n"
     ]
    },
    {
     "data": {
      "text/plain": [
       "CalibratedClassifierCV(base_estimator=LinearSVC(C=1.0, class_weight=None, dual=True, fit_intercept=True,\n",
       "     intercept_scaling=1, loss='squared_hinge', max_iter=1000,\n",
       "     multi_class='ovr', penalty='l2', random_state=None, tol=0.0001,\n",
       "     verbose=0),\n",
       "            cv=3, method='sigmoid')"
      ]
     },
     "execution_count": 15,
     "metadata": {},
     "output_type": "execute_result"
    }
   ],
   "source": [
    "from sklearn.svm import LinearSVC\n",
    "from sklearn.calibration import CalibratedClassifierCV\n",
    "\n",
    "print \"train_setSize= %s, train_set_labels= %s, %s\" \\\n",
    "%(train_set[0].shape, train_set[1].shape,  type(train_set[0]))\n",
    "\n",
    "## The cPickle method returns tuple with training cases and labels. \n",
    "## We need to extract them form these\n",
    "\n",
    "X_train = train_set[0][:]\n",
    "Y_train = train_set[1][:]\n",
    "\n",
    "\n",
    "print (\"X_train= %s, %s\\nY_train= %s, %s\\n\") \\\n",
    "%(X_train.shape, type(X_train), Y_train.shape, type(Y_train))\n",
    "\n",
    "\n",
    "svm = LinearSVC()\n",
    "clf = CalibratedClassifierCV(svm)\n",
    "\n",
    "## Training the classifier\n",
    "## Takes about 10-15 min to train\n",
    "clf.fit(X_train, Y_train)"
   ]
  },
  {
   "cell_type": "code",
   "execution_count": null,
   "metadata": {},
   "outputs": [
    {
     "name": "stdout",
     "output_type": "stream",
     "text": [
      "train_setSize= (50000, 784), train_set_labels= (50000,), <type 'numpy.ndarray'>\n",
      "X_train= (50000, 784), <type 'numpy.ndarray'>\n",
      "Y_train= (50000,), <type 'numpy.ndarray'>\n",
      "\n"
     ]
    }
   ],
   "source": [
    "## This loop was for polynomial SVM\n",
    "# from sklearn import svm\n",
    "\n",
    "\n",
    "# print \"train_setSize= %s, train_set_labels= %s, %s\" \\\n",
    "# %(train_set[0].shape, train_set[1].shape,  type(train_set[0]))\n",
    "\n",
    "# ## The cPickle method returns tuple with training cases and labels. \n",
    "# ## We need to extract them form these\n",
    "\n",
    "# X_train = train_set[0][:]\n",
    "# Y_train = train_set[1][:]\n",
    "\n",
    "\n",
    "# print (\"X_train= %s, %s\\nY_train= %s, %s\\n\") \\\n",
    "# %(X_train.shape, type(X_train), Y_train.shape, type(Y_train))\n",
    "\n",
    "# clf = svm.SVC(probability=True, gamma=0.07)\n",
    "\n",
    "# ## Training the classifier\n",
    "# ## Takes about 10-15 min to train\n",
    "# clf.fit(X_train, Y_train)\n",
    "\n",
    "\n"
   ]
  },
  {
   "cell_type": "code",
   "execution_count": 16,
   "metadata": {},
   "outputs": [
    {
     "name": "stdout",
     "output_type": "stream",
     "text": [
      "X_valid= (10000, 784), <type 'numpy.ndarray'>\n",
      "Y_valid= (10000,), <type 'numpy.ndarray'>\n",
      "\n",
      "Score on Valid set= 0.921200\n"
     ]
    }
   ],
   "source": [
    "## Validating the classifier\n",
    "X_valid = valid_set[0]\n",
    "Y_valid = valid_set[1]\n",
    "\n",
    "print \"X_valid= %s, %s\\nY_valid= %s, %s\\n\" \\\n",
    "%(X_valid.shape, type(X_valid), Y_valid.shape, type(Y_valid))\n",
    "\n",
    "## Score of the trained data set on the validation set\n",
    "score = clf.score(X_valid, Y_valid)\n",
    "\n",
    "print \"Score on Valid set= %f\" %(score)\n"
   ]
  },
  {
   "cell_type": "code",
   "execution_count": 17,
   "metadata": {},
   "outputs": [
    {
     "name": "stdout",
     "output_type": "stream",
     "text": [
      "X_test= (10000, 784), <type 'numpy.ndarray'>\n",
      "Y_test= (10000,), <type 'numpy.ndarray'>\n",
      "\n",
      "Score on Test data= 0.916700\n",
      "\n"
     ]
    }
   ],
   "source": [
    "## get score on the test data\n",
    "X_test = test_set[0]\n",
    "Y_test = test_set[1]\n",
    "\n",
    "print \"X_test= %s, %s\\nY_test= %s, %s\\n\"\\\n",
    "%(X_test.shape, type(X_test), Y_test.shape, type(Y_test) )\n",
    "\n",
    "scoreTest = clf.score(X_test, Y_test)\n",
    "\n",
    "print \"Score on Test data= %f\\n\" %(scoreTest)\n"
   ]
  },
  {
   "cell_type": "code",
   "execution_count": 35,
   "metadata": {},
   "outputs": [
    {
     "name": "stdout",
     "output_type": "stream",
     "text": [
      "probTest = [[  1.01755709e-04   2.63131116e-11   3.35260610e-04 ...,   9.47836952e-01\n",
      "    1.32619344e-04   1.49173139e-03]\n",
      " [  2.55525166e-03   6.31398567e-06   9.63656024e-01 ...,   1.37888506e-14\n",
      "    1.59547670e-05   3.33174704e-11]\n",
      " [  1.39735901e-05   9.20197009e-01   3.13391685e-02 ...,   3.48832729e-03\n",
      "    8.12310436e-03   3.96072140e-03]\n",
      " ..., \n",
      " [  1.32779921e-07   2.39715019e-08   2.95231465e-05 ...,   7.97462077e-03\n",
      "    7.38856967e-02   6.36063969e-02]\n",
      " [  7.14460813e-07   8.03578027e-07   2.83348744e-05 ...,   2.11268021e-05\n",
      "    2.36234892e-01   1.21452253e-06]\n",
      " [  6.67587323e-06   3.24328225e-13   1.16609499e-03 ...,   1.23337716e-09\n",
      "    3.53493542e-06   5.68031916e-07]], shape= (10000, 10)\n",
      "\n",
      "probTest[0]= [  1.01755709e-04   2.63131116e-11   3.35260610e-04   4.97038598e-02\n",
      "   8.83397963e-06   3.88944760e-04   4.24878026e-08   9.47836952e-01\n",
      "   1.32619344e-04   1.49173139e-03], len= 10\n",
      "\n",
      "Predicted Class= 7, True Class= 7, Predicted Score= 0.947837\n",
      "Class\tProbability\n",
      "0\t0.000102\n",
      "1\t0.000000\n",
      "2\t0.000335\n",
      "3\t0.049704\n",
      "4\t0.000009\n",
      "5\t0.000389\n",
      "6\t0.000000\n",
      "7\t0.947837\n",
      "8\t0.000133\n",
      "9\t0.001492\n",
      "Prob= 0.000102\n",
      "\n",
      "Str= 0.000102\n",
      "\n"
     ]
    }
   ],
   "source": [
    "## getting probabilities for each test data\n",
    "## Creates the probabilities for each class according to the labels.\n",
    "\n",
    "probTest = clf.predict_proba(X_test)[:]\n",
    "\n",
    "\n",
    "print \"probTest = %s, shape= %s\\n\" %(probTest, probTest.shape)\n",
    "\n",
    "print \"probTest[0]= %s, len= %d\\n\" \\\n",
    "%(probTest[0], len(probTest[0]))\n",
    "\n",
    "## index\n",
    "index= 0\n",
    "## Creates the predicted class for each testing value\n",
    "yPredictTest = clf.predict(X_test)[:]\n",
    "\n",
    "## max(probTest[index]) gives the max value for the array of predicted class. \n",
    "## This is the predicted score which is taken for classification\n",
    "print \"Predicted Class= %d, True Class= %d, Predicted Score= %f\" \\\n",
    "%(yPredictTest[index], Y_test[index], max(probTest[index]) )\n",
    "\n",
    "print \"Class\\tProbability\"\n",
    "for i in range(len(probTest[index])):\n",
    "    print \"%d\\t%f\" %(i, probTest[index][i])\n",
    "\n",
    "\n",
    "## using str.format\n",
    "print \"Prob= {0:.6f}\\n\".format(probTest[index][0])\n",
    "\n",
    "print \"Str= %s\\n\" %(str('{0:.6f}'.format(probTest[index][0])))\n",
    "\n",
    "## Open a csv for writing\n",
    "with open('LinearSVM.csv', 'w') as f:\n",
    "    f.write('True Class, Assigned Class, Correct, Predicted Score, C0, C1, C2, C3, C4, C5, C6, C7, C8, C9\\n')\n",
    "    \n",
    "    for j in range(len(Y_test)):\n",
    "#         trueClass = Y_test[j]\n",
    "#         assignedClass = yPredictTest[j]\n",
    "#         predictedScore = max(probTest[j])\n",
    "        \n",
    "        if (Y_test[j] == yPredictTest[j]) :\n",
    "            correct = 1\n",
    "        else:\n",
    "            correct = 0\n",
    "        \n",
    "        f.write(str(Y_test[j]) + \", \" + str(yPredictTest[j]) \\\n",
    "                + \", \" + str(correct) + \", \" + str('{0:.6f}'.format(max(probTest[j])) ) + \", \" )\n",
    "        \n",
    "        for k in range(len(probTest[j])):\n",
    "            f.write(str('{0:.6f}'.format(probTest[j][k]) ) + \", \")\n",
    "        \n",
    "        f.write(\"\\n\")\n",
    "            \n"
   ]
  }
 ],
 "metadata": {
  "kernelspec": {
   "display_name": "Python 2",
   "language": "python",
   "name": "python2"
  },
  "language_info": {
   "codemirror_mode": {
    "name": "ipython",
    "version": 2
   },
   "file_extension": ".py",
   "mimetype": "text/x-python",
   "name": "python",
   "nbconvert_exporter": "python",
   "pygments_lexer": "ipython2",
   "version": "2.7.14"
  }
 },
 "nbformat": 4,
 "nbformat_minor": 2
}
