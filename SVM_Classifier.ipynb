{
 "cells": [
  {
   "cell_type": "code",
   "execution_count": 2,
   "metadata": {},
   "outputs": [],
   "source": [
    "import cPickle, gzip, numpy\n",
    "\n",
    "## Load the dataset\n",
    "f = gzip.open('./mnist.pkl.gz', 'rb')\n",
    "train_set, valid_set, test_set = cPickle.load(f)\n",
    "f.close()\n"
   ]
  },
  {
   "cell_type": "code",
   "execution_count": 3,
   "metadata": {},
   "outputs": [
    {
     "name": "stdout",
     "output_type": "stream",
     "text": [
      "train_setSize= (50000, 784), train_set_labels= (50000,), <type 'numpy.ndarray'>\n",
      "X_train= (50000, 784), <type 'numpy.ndarray'>\n",
      "Y_train= (50000,), <type 'numpy.ndarray'>\n",
      "\n"
     ]
    },
    {
     "data": {
      "text/plain": [
       "SVC(C=1.0, cache_size=200, class_weight=None, coef0=0.0,\n",
       "  decision_function_shape='ovr', degree=3, gamma='auto', kernel='rbf',\n",
       "  max_iter=-1, probability=True, random_state=None, shrinking=True,\n",
       "  tol=0.001, verbose=False)"
      ]
     },
     "execution_count": 3,
     "metadata": {},
     "output_type": "execute_result"
    }
   ],
   "source": [
    "from sklearn import svm\n",
    "\n",
    "print \"train_setSize= %s, train_set_labels= %s, %s\" \\\n",
    "%(train_set[0].shape, train_set[1].shape,  type(train_set[0]))\n",
    "\n",
    "## The cPickle method returns tuple with training cases and labels. \n",
    "## We need to extract them form these\n",
    "\n",
    "X_train = train_set[0][:]\n",
    "Y_train = train_set[1][:]\n",
    "\n",
    "\n",
    "print (\"X_train= %s, %s\\nY_train= %s, %s\\n\") \\\n",
    "%(X_train.shape, type(X_train), Y_train.shape, type(Y_train))\n",
    "\n",
    "\n",
    "clf = svm.SVC(probability=True)\n",
    "\n",
    "## Training the classifier\n",
    "## Takes about 10-15 min to train\n",
    "clf.fit(X_train, Y_train)\n",
    "\n",
    "\n"
   ]
  },
  {
   "cell_type": "code",
   "execution_count": 4,
   "metadata": {},
   "outputs": [
    {
     "name": "stdout",
     "output_type": "stream",
     "text": [
      "X_valid= (10000, 784), <type 'numpy.ndarray'>\n",
      "Y_valid= (10000,), <type 'numpy.ndarray'>\n",
      "\n",
      "Score on Valid set= 0.944800\n"
     ]
    }
   ],
   "source": [
    "## Validating the classifier\n",
    "X_valid = valid_set[0]\n",
    "Y_valid = valid_set[1]\n",
    "\n",
    "print \"X_valid= %s, %s\\nY_valid= %s, %s\\n\" \\\n",
    "%(X_valid.shape, type(X_valid), Y_valid.shape, type(Y_valid))\n",
    "\n",
    "## Score of the trained data set on the validation set\n",
    "score = clf.score(X_valid, Y_valid)\n",
    "\n",
    "print \"Score on Valid set= %f\" %(score)\n"
   ]
  },
  {
   "cell_type": "code",
   "execution_count": 5,
   "metadata": {},
   "outputs": [
    {
     "name": "stdout",
     "output_type": "stream",
     "text": [
      "X_test= (10000, 784), <type 'numpy.ndarray'>\n",
      "Y_test= (10000,), <type 'numpy.ndarray'>\n",
      "\n",
      "Score on Test data= 0.943500\n",
      "\n"
     ]
    }
   ],
   "source": [
    "## get score on the test data\n",
    "X_test = test_set[0]\n",
    "Y_test = test_set[1]\n",
    "\n",
    "print \"X_test= %s, %s\\nY_test= %s, %s\\n\"\\\n",
    "%(X_test.shape, type(X_test), Y_test.shape, type(Y_test) )\n",
    "\n",
    "scoreTest = clf.score(X_test, Y_test)\n",
    "\n",
    "print \"Score on Test data= %f\\n\" %(scoreTest)\n"
   ]
  },
  {
   "cell_type": "code",
   "execution_count": 7,
   "metadata": {},
   "outputs": [
    {
     "name": "stdout",
     "output_type": "stream",
     "text": [
      "probTest = [[  2.51407047e-04   2.57711547e-06   4.70133115e-04 ...,   9.93949896e-01\n",
      "    3.28148106e-05   9.98062897e-04]\n",
      " [  5.73469838e-03   2.33260062e-03   9.20125953e-01 ...,   5.26153892e-04\n",
      "    3.93062344e-03   6.28477841e-04]\n",
      " [  6.61626299e-05   9.88961857e-01   4.28889023e-03 ...,   2.33017636e-03\n",
      "    1.60716586e-03   3.38466798e-04]\n",
      " ..., \n",
      " [  2.27082938e-05   1.85414274e-06   1.24906321e-04 ...,   3.50117860e-04\n",
      "    8.15487252e-04   4.72212076e-03]\n",
      " [  1.81566512e-04   2.78889040e-04   7.71061670e-05 ...,   2.72446036e-05\n",
      "    2.41127861e-02   1.11843821e-04]\n",
      " [  2.44042046e-08   4.76237558e-09   3.99665607e-08 ...,   1.80844157e-08\n",
      "    1.73114425e-07   1.63201722e-07]], shape= (10000, 10)\n",
      "\n",
      "probTest[0]= [  2.51407047e-04   2.57711547e-06   4.70133115e-04   4.19878686e-03\n",
      "   3.78505166e-05   5.76070215e-05   8.64773760e-07   9.93949896e-01\n",
      "   3.28148106e-05   9.98062897e-04], len= 10\n",
      "\n",
      "Predicted Class= 9, True Class= 9\n",
      "Class\tProbability\n",
      "0\t0.000197\n",
      "1\t0.001993\n",
      "2\t0.001910\n",
      "3\t0.099451\n",
      "4\t0.010703\n",
      "5\t0.000432\n",
      "6\t0.000164\n",
      "7\t0.117630\n",
      "8\t0.000838\n",
      "9\t0.766683\n"
     ]
    }
   ],
   "source": [
    "## getting probabilities for each test data\n",
    "\n",
    "probTest = clf.predict_proba(X_test)\n",
    "\n",
    "print \"probTest = %s, shape= %s\\n\" %(probTest, probTest.shape)\n",
    "\n",
    "print \"probTest[0]= %s, len= %d\\n\" %(probTest[0], len(probTest[0]))\n",
    "\n",
    "## index\n",
    "index= 1000\n",
    "## Predicted class\n",
    "yPredictTest = clf.predict(X_test)\n",
    "print \"Predicted Class= %d, True Class= %d\" %(yPredictTest[index], Y_test[index])\n",
    "\n",
    "print \"Class\\tProbability\"\n",
    "for i in range(len(probTest[index])):\n",
    "    print \"%d\\t%f\" %(i, probTest[index][i])\n",
    "\n"
   ]
  }
 ],
 "metadata": {
  "kernelspec": {
   "display_name": "Python 2",
   "language": "python",
   "name": "python2"
  },
  "language_info": {
   "codemirror_mode": {
    "name": "ipython",
    "version": 2
   },
   "file_extension": ".py",
   "mimetype": "text/x-python",
   "name": "python",
   "nbconvert_exporter": "python",
   "pygments_lexer": "ipython2",
   "version": "2.7.14"
  }
 },
 "nbformat": 4,
 "nbformat_minor": 2
}
